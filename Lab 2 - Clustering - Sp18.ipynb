{
 "cells": [
  {
   "cell_type": "markdown",
   "metadata": {},
   "source": [
    "## Lab 2: Clustering ##\n",
    "INFO 254"
   ]
  },
  {
   "cell_type": "code",
   "execution_count": 1,
   "metadata": {
    "collapsed": true
   },
   "outputs": [],
   "source": [
    "import pandas as pd\n",
    "from sklearn.cluster import KMeans\n",
    "from sklearn.metrics import silhouette_score\n",
    "import numpy as np\n",
    "from sklearn.preprocessing import normalize\n",
    "\n",
    "import matplotlib\n",
    "import matplotlib.pyplot as plt\n",
    "\n",
    "#%matplotlib inline\n",
    "matplotlib.style.use('ggplot')"
   ]
  },
  {
   "cell_type": "code",
   "execution_count": 2,
   "metadata": {},
   "outputs": [
    {
     "name": "stdout",
     "output_type": "stream",
     "text": [
      "(171639, 43)\n"
     ]
    },
    {
     "data": {
      "text/html": [
       "<div>\n",
       "<style>\n",
       "    .dataframe thead tr:only-child th {\n",
       "        text-align: right;\n",
       "    }\n",
       "\n",
       "    .dataframe thead th {\n",
       "        text-align: left;\n",
       "    }\n",
       "\n",
       "    .dataframe tbody tr th {\n",
       "        vertical-align: top;\n",
       "    }\n",
       "</style>\n",
       "<table border=\"1\" class=\"dataframe\">\n",
       "  <thead>\n",
       "    <tr style=\"text-align: right;\">\n",
       "      <th></th>\n",
       "      <th>q3</th>\n",
       "      <th>q4</th>\n",
       "      <th>q5</th>\n",
       "      <th>q6</th>\n",
       "      <th>q7</th>\n",
       "      <th>q8</th>\n",
       "      <th>q9</th>\n",
       "      <th>q10</th>\n",
       "      <th>q11</th>\n",
       "      <th>q12</th>\n",
       "      <th>...</th>\n",
       "      <th>q16r</th>\n",
       "      <th>q16u</th>\n",
       "      <th>q16v</th>\n",
       "      <th>q16w</th>\n",
       "      <th>q16x</th>\n",
       "      <th>q16y</th>\n",
       "      <th>q16z</th>\n",
       "      <th>q16aa</th>\n",
       "      <th>q16ab</th>\n",
       "      <th>q16ac</th>\n",
       "    </tr>\n",
       "  </thead>\n",
       "  <tbody>\n",
       "    <tr>\n",
       "      <th>count</th>\n",
       "      <td>24205.000000</td>\n",
       "      <td>24205.000000</td>\n",
       "      <td>24205.000000</td>\n",
       "      <td>24205.000000</td>\n",
       "      <td>24205.000000</td>\n",
       "      <td>24205.000000</td>\n",
       "      <td>24205.000000</td>\n",
       "      <td>24205.000000</td>\n",
       "      <td>24205.000000</td>\n",
       "      <td>24205.000000</td>\n",
       "      <td>...</td>\n",
       "      <td>24205.000000</td>\n",
       "      <td>24205.000000</td>\n",
       "      <td>24205.000000</td>\n",
       "      <td>24205.000000</td>\n",
       "      <td>24205.000000</td>\n",
       "      <td>24205.000000</td>\n",
       "      <td>24205.000000</td>\n",
       "      <td>24205.000000</td>\n",
       "      <td>24205.000000</td>\n",
       "      <td>24205.000000</td>\n",
       "    </tr>\n",
       "    <tr>\n",
       "      <th>mean</th>\n",
       "      <td>6.673497</td>\n",
       "      <td>5.532121</td>\n",
       "      <td>4.990002</td>\n",
       "      <td>9.002644</td>\n",
       "      <td>1.507177</td>\n",
       "      <td>0.930915</td>\n",
       "      <td>0.863740</td>\n",
       "      <td>1.540158</td>\n",
       "      <td>26.765398</td>\n",
       "      <td>25.708965</td>\n",
       "      <td>...</td>\n",
       "      <td>3.633588</td>\n",
       "      <td>0.460916</td>\n",
       "      <td>22.550671</td>\n",
       "      <td>25.064697</td>\n",
       "      <td>0.003781</td>\n",
       "      <td>73.981978</td>\n",
       "      <td>0.642677</td>\n",
       "      <td>0.561124</td>\n",
       "      <td>1.141080</td>\n",
       "      <td>3.649456</td>\n",
       "    </tr>\n",
       "    <tr>\n",
       "      <th>std</th>\n",
       "      <td>7.468561</td>\n",
       "      <td>25.407165</td>\n",
       "      <td>22.812399</td>\n",
       "      <td>28.164931</td>\n",
       "      <td>0.889274</td>\n",
       "      <td>0.980001</td>\n",
       "      <td>0.951531</td>\n",
       "      <td>1.027086</td>\n",
       "      <td>10.166944</td>\n",
       "      <td>11.569436</td>\n",
       "      <td>...</td>\n",
       "      <td>1.490942</td>\n",
       "      <td>0.509305</td>\n",
       "      <td>14.454279</td>\n",
       "      <td>28.650883</td>\n",
       "      <td>0.006020</td>\n",
       "      <td>51.060694</td>\n",
       "      <td>1.427017</td>\n",
       "      <td>1.908011</td>\n",
       "      <td>3.234828</td>\n",
       "      <td>0.990191</td>\n",
       "    </tr>\n",
       "    <tr>\n",
       "      <th>min</th>\n",
       "      <td>1.000000</td>\n",
       "      <td>1.000000</td>\n",
       "      <td>1.000000</td>\n",
       "      <td>1.000000</td>\n",
       "      <td>0.000000</td>\n",
       "      <td>0.000000</td>\n",
       "      <td>0.000000</td>\n",
       "      <td>0.000000</td>\n",
       "      <td>2.780000</td>\n",
       "      <td>1.410000</td>\n",
       "      <td>...</td>\n",
       "      <td>1.000000</td>\n",
       "      <td>0.000000</td>\n",
       "      <td>1.000000</td>\n",
       "      <td>1.000000</td>\n",
       "      <td>0.000000</td>\n",
       "      <td>0.250000</td>\n",
       "      <td>0.000000</td>\n",
       "      <td>0.000000</td>\n",
       "      <td>0.000000</td>\n",
       "      <td>1.000000</td>\n",
       "    </tr>\n",
       "    <tr>\n",
       "      <th>25%</th>\n",
       "      <td>2.000000</td>\n",
       "      <td>1.000000</td>\n",
       "      <td>1.000000</td>\n",
       "      <td>2.000000</td>\n",
       "      <td>0.690000</td>\n",
       "      <td>0.000000</td>\n",
       "      <td>0.000000</td>\n",
       "      <td>0.690000</td>\n",
       "      <td>20.000000</td>\n",
       "      <td>16.670000</td>\n",
       "      <td>...</td>\n",
       "      <td>3.000000</td>\n",
       "      <td>0.000000</td>\n",
       "      <td>10.000000</td>\n",
       "      <td>9.000000</td>\n",
       "      <td>0.000477</td>\n",
       "      <td>39.125000</td>\n",
       "      <td>0.000000</td>\n",
       "      <td>0.000000</td>\n",
       "      <td>0.000000</td>\n",
       "      <td>3.200000</td>\n",
       "    </tr>\n",
       "    <tr>\n",
       "      <th>50%</th>\n",
       "      <td>5.000000</td>\n",
       "      <td>2.000000</td>\n",
       "      <td>2.000000</td>\n",
       "      <td>5.000000</td>\n",
       "      <td>1.610000</td>\n",
       "      <td>0.690000</td>\n",
       "      <td>0.690000</td>\n",
       "      <td>1.610000</td>\n",
       "      <td>25.930000</td>\n",
       "      <td>25.000000</td>\n",
       "      <td>...</td>\n",
       "      <td>4.000000</td>\n",
       "      <td>0.333333</td>\n",
       "      <td>21.000000</td>\n",
       "      <td>17.000000</td>\n",
       "      <td>0.001944</td>\n",
       "      <td>61.842593</td>\n",
       "      <td>0.000000</td>\n",
       "      <td>0.000000</td>\n",
       "      <td>0.500000</td>\n",
       "      <td>3.800000</td>\n",
       "    </tr>\n",
       "    <tr>\n",
       "      <th>75%</th>\n",
       "      <td>8.000000</td>\n",
       "      <td>4.000000</td>\n",
       "      <td>4.000000</td>\n",
       "      <td>9.000000</td>\n",
       "      <td>2.080000</td>\n",
       "      <td>1.390000</td>\n",
       "      <td>1.390000</td>\n",
       "      <td>2.200000</td>\n",
       "      <td>33.330000</td>\n",
       "      <td>33.330000</td>\n",
       "      <td>...</td>\n",
       "      <td>5.000000</td>\n",
       "      <td>0.666667</td>\n",
       "      <td>34.000000</td>\n",
       "      <td>32.000000</td>\n",
       "      <td>0.004666</td>\n",
       "      <td>95.375000</td>\n",
       "      <td>1.000000</td>\n",
       "      <td>0.000000</td>\n",
       "      <td>1.333333</td>\n",
       "      <td>4.333333</td>\n",
       "    </tr>\n",
       "    <tr>\n",
       "      <th>max</th>\n",
       "      <td>360.000000</td>\n",
       "      <td>2333.000000</td>\n",
       "      <td>2093.000000</td>\n",
       "      <td>2420.000000</td>\n",
       "      <td>5.890000</td>\n",
       "      <td>7.750000</td>\n",
       "      <td>7.650000</td>\n",
       "      <td>7.790000</td>\n",
       "      <td>84.620000</td>\n",
       "      <td>89.290000</td>\n",
       "      <td>...</td>\n",
       "      <td>5.000000</td>\n",
       "      <td>7.000000</td>\n",
       "      <td>53.000000</td>\n",
       "      <td>1289.000000</td>\n",
       "      <td>0.150618</td>\n",
       "      <td>549.333333</td>\n",
       "      <td>44.000000</td>\n",
       "      <td>106.000000</td>\n",
       "      <td>342.300000</td>\n",
       "      <td>5.000000</td>\n",
       "    </tr>\n",
       "  </tbody>\n",
       "</table>\n",
       "<p>8 rows × 40 columns</p>\n",
       "</div>"
      ],
      "text/plain": [
       "                 q3            q4            q5            q6            q7  \\\n",
       "count  24205.000000  24205.000000  24205.000000  24205.000000  24205.000000   \n",
       "mean       6.673497      5.532121      4.990002      9.002644      1.507177   \n",
       "std        7.468561     25.407165     22.812399     28.164931      0.889274   \n",
       "min        1.000000      1.000000      1.000000      1.000000      0.000000   \n",
       "25%        2.000000      1.000000      1.000000      2.000000      0.690000   \n",
       "50%        5.000000      2.000000      2.000000      5.000000      1.610000   \n",
       "75%        8.000000      4.000000      4.000000      9.000000      2.080000   \n",
       "max      360.000000   2333.000000   2093.000000   2420.000000      5.890000   \n",
       "\n",
       "                 q8            q9           q10           q11           q12  \\\n",
       "count  24205.000000  24205.000000  24205.000000  24205.000000  24205.000000   \n",
       "mean       0.930915      0.863740      1.540158     26.765398     25.708965   \n",
       "std        0.980001      0.951531      1.027086     10.166944     11.569436   \n",
       "min        0.000000      0.000000      0.000000      2.780000      1.410000   \n",
       "25%        0.000000      0.000000      0.690000     20.000000     16.670000   \n",
       "50%        0.690000      0.690000      1.610000     25.930000     25.000000   \n",
       "75%        1.390000      1.390000      2.200000     33.330000     33.330000   \n",
       "max        7.750000      7.650000      7.790000     84.620000     89.290000   \n",
       "\n",
       "           ...               q16r          q16u          q16v          q16w  \\\n",
       "count      ...       24205.000000  24205.000000  24205.000000  24205.000000   \n",
       "mean       ...           3.633588      0.460916     22.550671     25.064697   \n",
       "std        ...           1.490942      0.509305     14.454279     28.650883   \n",
       "min        ...           1.000000      0.000000      1.000000      1.000000   \n",
       "25%        ...           3.000000      0.000000     10.000000      9.000000   \n",
       "50%        ...           4.000000      0.333333     21.000000     17.000000   \n",
       "75%        ...           5.000000      0.666667     34.000000     32.000000   \n",
       "max        ...           5.000000      7.000000     53.000000   1289.000000   \n",
       "\n",
       "               q16x          q16y          q16z         q16aa         q16ab  \\\n",
       "count  24205.000000  24205.000000  24205.000000  24205.000000  24205.000000   \n",
       "mean       0.003781     73.981978      0.642677      0.561124      1.141080   \n",
       "std        0.006020     51.060694      1.427017      1.908011      3.234828   \n",
       "min        0.000000      0.250000      0.000000      0.000000      0.000000   \n",
       "25%        0.000477     39.125000      0.000000      0.000000      0.000000   \n",
       "50%        0.001944     61.842593      0.000000      0.000000      0.500000   \n",
       "75%        0.004666     95.375000      1.000000      0.000000      1.333333   \n",
       "max        0.150618    549.333333     44.000000    106.000000    342.300000   \n",
       "\n",
       "              q16ac  \n",
       "count  24205.000000  \n",
       "mean       3.649456  \n",
       "std        0.990191  \n",
       "min        1.000000  \n",
       "25%        3.200000  \n",
       "50%        3.800000  \n",
       "75%        4.333333  \n",
       "max        5.000000  \n",
       "\n",
       "[8 rows x 40 columns]"
      ]
     },
     "execution_count": 2,
     "metadata": {},
     "output_type": "execute_result"
    }
   ],
   "source": [
    "df = pd.read_csv('yelp_reviewers.csv')\n",
    "print(df.shape)\n",
    "df.dropna().describe()"
   ]
  },
  {
   "cell_type": "markdown",
   "metadata": {},
   "source": [
    "### Question 1 ###\n",
    "\n",
    "Choose an implementation of k-means and specify it in the google sheet  \n",
    "\n",
    "** Answer **:  \n"
   ]
  },
  {
   "cell_type": "code",
   "execution_count": 5,
   "metadata": {
    "collapsed": true
   },
   "outputs": [],
   "source": [
    "from sklearn.cluster import KMeans # Scikit-learn\n"
   ]
  },
  {
   "cell_type": "markdown",
   "metadata": {},
   "source": [
    "### Question 2 ###\n",
    "What is the best choice of k according to the silhouette metric for clustering q4-q6 (# of cool, funny, useful votes). Only consider 2 <= k <= 8.  \n",
    "\n",
    "NOTE: For features with high variance, empty clusters can occur. There are several ways of dealing with empty clusters. A common approach is to drop empty clusters, the prefered approach for this Lab is to treat the empty cluster as a “singleton” leaving it empty with a single point placeholder. This can be accomplished in MATLAB, for example, with the command:  [IDX,C]=kmeans(d,4, 'Distance', 'sqeuclidean','EmptyAction','singleton')\n",
    "\n",
    "**Answer**:  "
   ]
  },
  {
   "cell_type": "code",
   "execution_count": 96,
   "metadata": {},
   "outputs": [
    {
     "name": "stdout",
     "output_type": "stream",
     "text": [
      "Best choice: k =  2 , silhouette score =  0.98939672069\n"
     ]
    }
   ],
   "source": [
    "current_max, current_index = float(\"-inf\"),-1\n",
    "#new_df = df.dropna().sample(n = 10000)   # Sampling 10000 data points randomly since the whole dataset is too large to load\n",
    "#print(type(new_df))  # Dataframe\n",
    "#b = [1,3,5]\n",
    "#print(df.iloc[:,b])\n",
    "\n",
    "for k in range(2,9):\n",
    "    kmeans = KMeans(n_clusters = k).fit(df.iloc[:, 1:4])\n",
    "    s_score = silhouette_score(df.iloc[:,1:4], kmeans.labels_, sample_size = 10000)\n",
    "    if s_score > current_max:\n",
    "        current_max = s_score\n",
    "        current_index = k\n",
    "\n",
    "print(\"Best choice: k = \", current_index, \", silhouette score = \", current_max)\n",
    "\n",
    "\n"
   ]
  },
  {
   "cell_type": "markdown",
   "metadata": {},
   "source": [
    "***\n",
    "\n",
    "### Question 3 ###\n",
    "Answer question 2 but using the log of the features (q7-q10)\n",
    "\n",
    "**Answer**:  "
   ]
  },
  {
   "cell_type": "code",
   "execution_count": 7,
   "metadata": {},
   "outputs": [
    {
     "data": {
      "text/plain": [
       "'\\n\\nfrom sklearn.preprocessing import Imputer\\n\\ncol_loc = new_df.columns.get_loc(\\'q7\\')\\n#new_df.iloc[:,col_loc:(col_loc+4)].head()\\n\\nlog_new_df = np.log(new_df.iloc[:,col_loc:(col_loc+4)])\\nlog_new_df[log_new_df == float(\\'-inf\\')] = float(\\'nan\\')\\n#print(log_new_df.head())\\nimputer = Imputer()\\nlog_new_df = imputer.fit_transform(log_new_df) # It is an array now\\n#print(log_new_df[:5])\\n\\n\\n\\ncurrent_max, current_index = float(\"-inf\"),-1\\nfor k in range(2,9):\\n    kmeans = KMeans(n_clusters = k).fit(log_new_df)\\n    s_score = silhouette_score(log_new_df, kmeans.labels_)\\n    if s_score > current_max:\\n        current_max = s_score\\n        current_index = k\\nprint(\"Best choice: k = \", current_index)\\n\\n'"
      ]
     },
     "execution_count": 7,
     "metadata": {},
     "output_type": "execute_result"
    }
   ],
   "source": [
    "# I had taken log of the features q7-q10 in this code.\n",
    "\n",
    "\"\"\"\n",
    "\n",
    "from sklearn.preprocessing import Imputer\n",
    "\n",
    "col_loc = new_df.columns.get_loc('q7')\n",
    "#new_df.iloc[:,col_loc:(col_loc+4)].head()\n",
    "\n",
    "log_new_df = np.log(new_df.iloc[:,col_loc:(col_loc+4)])\n",
    "log_new_df[log_new_df == float('-inf')] = float('nan')\n",
    "#print(log_new_df.head())\n",
    "imputer = Imputer()\n",
    "log_new_df = imputer.fit_transform(log_new_df) # It is an array now\n",
    "#print(log_new_df[:5])\n",
    "\n",
    "\n",
    "\n",
    "current_max, current_index = float(\"-inf\"),-1\n",
    "for k in range(2,9):\n",
    "    kmeans = KMeans(n_clusters = k).fit(log_new_df)\n",
    "    s_score = silhouette_score(log_new_df, kmeans.labels_)\n",
    "    if s_score > current_max:\n",
    "        current_max = s_score\n",
    "        current_index = k\n",
    "print(\"Best choice: k = \", current_index)\n",
    "\n",
    "\"\"\""
   ]
  },
  {
   "cell_type": "code",
   "execution_count": 95,
   "metadata": {},
   "outputs": [
    {
     "name": "stdout",
     "output_type": "stream",
     "text": [
      "Best choice: k =  2 , silhouette score =  0.525805639106\n"
     ]
    }
   ],
   "source": [
    "from sklearn.preprocessing import Imputer\n",
    "\n",
    "col_loc = df.columns.get_loc('q7')\n",
    "\n",
    "\n",
    "log_df = df.iloc[:,col_loc:(col_loc+4)]\n",
    "log_df[log_df == float('-inf')] = float('nan')\n",
    "#print(log_new_df.head())\n",
    "imputer = Imputer()\n",
    "log_df = imputer.fit_transform(log_df) # It is an array now\n",
    "#print(log_new_df[:5])\n",
    "\n",
    "\n",
    "\n",
    "current_max, current_index = float(\"-inf\"),-1\n",
    "for k in range(2,9):\n",
    "    kmeans = KMeans(n_clusters = k).fit(log_df)\n",
    "    s_score = silhouette_score(log_df, kmeans.labels_, sample_size = 10000)\n",
    "    if s_score > current_max:\n",
    "        current_max = s_score\n",
    "        current_index = k\n",
    "print(\"Best choice: k = \", current_index, \", silhouette score = \", current_max)"
   ]
  },
  {
   "cell_type": "code",
   "execution_count": 7,
   "metadata": {
    "collapsed": true
   },
   "outputs": [],
   "source": [
    "#new_df.iloc[:,col_loc:(col_loc+4)].head()"
   ]
  },
  {
   "cell_type": "markdown",
   "metadata": {},
   "source": [
    "***\n",
    "\n",
    "### Question 4 ###\n",
    "Answer question 2 but using the percentage of the features (q11-q13)\n",
    "\n",
    "**Answer**:"
   ]
  },
  {
   "cell_type": "code",
   "execution_count": 20,
   "metadata": {},
   "outputs": [
    {
     "name": "stdout",
     "output_type": "stream",
     "text": [
      "(10000,)\n",
      "Best choice: k =  8\n"
     ]
    }
   ],
   "source": [
    "# Here again, I took the percentage of each column w.r.t the sum of all the 3 columns\n",
    "\n",
    "\"\"\"\n",
    "col_loc = new_df.columns.get_loc('q11')\n",
    "new_df_slice = new_df.iloc[:,col_loc:(col_loc+3)]\n",
    "sum_across_cols = new_df_slice.sum(axis=1) # Axis of repeat isn't supported in pandas' implememtation of repeat\n",
    "\n",
    "\n",
    "#print(type(sum_across_cols))   # Series\n",
    "#print(np.repeat(sum_across_cols, 3, axis =1).shape)\n",
    "#percent_new_df = np.divide(, np.repeat(sum_across_cols, 3, axis=1))*100\n",
    "\n",
    "for i in range(len(new_df_slice.iloc[0])):      # new_df_slice[:1] wasn't giving the desired results, think why\n",
    "    new_df_slice.iloc[:,i] = np.divide(new_df_slice.iloc[:,i], sum_across_cols)*100\n",
    "#new_df_slice.describe()\n",
    "\n",
    "current_max, current_index = float(\"-inf\"),-1\n",
    "for k in range(2,9):\n",
    "    kmeans = KMeans(n_clusters = k).fit(new_df_slice)\n",
    "    s_score = silhouette_score(new_df_slice, kmeans.labels_)\n",
    "    if s_score > current_max:\n",
    "        current_max = s_score\n",
    "        current_index = k\n",
    "print(\"Best choice: k = \", current_index)\n",
    "\"\"\""
   ]
  },
  {
   "cell_type": "code",
   "execution_count": 51,
   "metadata": {},
   "outputs": [
    {
     "name": "stdout",
     "output_type": "stream",
     "text": [
      "Best choice: k =  8\n"
     ]
    }
   ],
   "source": [
    "col_loc = df.columns.get_loc('q11')\n",
    "df_slice = df.iloc[:,col_loc:(col_loc+3)]\n",
    "\n",
    "imputer = Imputer()\n",
    "df_slice = imputer.fit_transform(df_slice)\n",
    "current_max, current_index = float(\"-inf\"),-1\n",
    "for k in range(2,9):\n",
    "    kmeans = KMeans(n_clusters = k).fit(df_slice)\n",
    "    s_score = silhouette_score(df_slice, kmeans.labels_, sample_size = 10000)\n",
    "    if s_score > current_max:\n",
    "        current_max = s_score\n",
    "        current_index = k\n",
    "print(\"Best choice: k = \", current_index)"
   ]
  },
  {
   "cell_type": "markdown",
   "metadata": {},
   "source": [
    "***\n",
    "\n",
    "### Question 5 ###\n",
    "Inspect the [best] clustering generated from question 4"
   ]
  },
  {
   "cell_type": "markdown",
   "metadata": {},
   "source": [
    "#### 5.a ####\n",
    "**Question**: List the number of data points in each cluster (eg. C1: 2,000 C2: 4,200 etc)"
   ]
  },
  {
   "cell_type": "code",
   "execution_count": 52,
   "metadata": {},
   "outputs": [
    {
     "name": "stdout",
     "output_type": "stream",
     "text": [
      "C0 : 8677, C1 : 14865, C2 : 86641, C3 : 5805, C4 : 4026, C5 : 10188, C6 : 32922, C7 : 8515, "
     ]
    }
   ],
   "source": [
    "kmeans = KMeans(n_clusters = current_index).fit(df_slice)\n",
    "\n",
    "from collections import Counter\n",
    "cnt = Counter()\n",
    "for label in kmeans.labels_:\n",
    "    cnt[label]+=1\n",
    "for item in sorted(cnt.items(), key = lambda x: x[0]): # item is (key,value)\n",
    "    print(\"C\"+str(item[0]),\":\",item[1], end = \", \")\n",
    "#print(sorted(cnt, key = lambda x:)"
   ]
  },
  {
   "cell_type": "markdown",
   "metadata": {},
   "source": [
    "#### 5.b ####\n",
    "**Question**: Were there clusters that represented very funny but useless reviewers?  \n",
    "\n",
    "**Answer**:  "
   ]
  },
  {
   "cell_type": "code",
   "execution_count": 54,
   "metadata": {},
   "outputs": [
    {
     "name": "stdout",
     "output_type": "stream",
     "text": [
      "[[ 26.35629771   1.56193359  72.08165802]\n",
      " [ 32.79166095  33.46908443  33.73584191]\n",
      " [ 19.21344078  18.71325288  62.07314944]\n",
      " [  1.36427907  97.08347976   1.55237037]\n",
      " [ 98.20565574   0.89977894   0.894615  ]\n",
      " [ 49.12774441   2.46021692  48.41214861]\n",
      " [  0.17617186   0.40948758  99.41432112]\n",
      " [  2.01080446  46.42119789  51.56799883]]\n"
     ]
    }
   ],
   "source": [
    "print(kmeans.cluster_centers_)\n"
   ]
  },
  {
   "cell_type": "markdown",
   "metadata": {},
   "source": [
    "From the coordinates of the cluster centers, we see that cluster 3 (in this case, the exact label could vary depending on initializations etc.) has only about 1.5% from useful votes and about 97% from funny votes. Instead of just looking at the cluster centers and saying this (which would be hard if there were many centers, we could also have a threshold, say 80%, for the difference between the percentages of funny and useful votes and return all clusters for which the threshold is exceeded."
   ]
  },
  {
   "cell_type": "markdown",
   "metadata": {},
   "source": [
    "#### 5.c ####\n",
    "**Question**: How many reviewers were in the cluster that represented relatively equal strength in all voting categories (assuming such a cluster exists in your clustering)?  \n",
    "\n",
    "**Answer**:"
   ]
  },
  {
   "cell_type": "code",
   "execution_count": 55,
   "metadata": {},
   "outputs": [
    {
     "name": "stdout",
     "output_type": "stream",
     "text": [
      "The number of reviewers in the cluster that represented relatively equal strength in all voting categories:  14865\n"
     ]
    }
   ],
   "source": [
    "latest_cluster = -1 # The latest cluster that satisfies the required criteria\n",
    "for i,centers in enumerate(kmeans.cluster_centers_):\n",
    "    if max(centers)-min(centers)<10:  # some heuristic threshold\n",
    "        latest_cluster = i\n",
    "if latest_cluster == -1:\n",
    "    print(\"No such cluster found\")\n",
    "else:\n",
    "    print(\"The number of reviewers in the cluster that represented relatively equal strength in all voting categories: \",cnt[latest_cluster])\n",
    "        \n",
    "# We could also have eyeballed it in this case since we see that cluster 6 has almost equal coordinates, but my code is more general, ofcourse with the caveat of having to select the threshold       "
   ]
  },
  {
   "cell_type": "markdown",
   "metadata": {},
   "source": [
    "***\n",
    "\n",
    "### Question 6 ###\n",
    "Cluster the dataset using $k = 5$ and using features q7-q13 (log and % type votes) and q14 (most active year feature) and the natural log of q15 (avg review chars)"
   ]
  },
  {
   "cell_type": "code",
   "execution_count": 57,
   "metadata": {
    "collapsed": true
   },
   "outputs": [],
   "source": [
    "col_loc = df.columns.get_loc('q7')\n",
    "q6_df = df.iloc[:,col_loc:(col_loc+8)]   #q6 refers to question 6 here, not some feature\n",
    "#new_df.iloc[:,new_df.columns.get_loc('q15')]\n",
    "q6_df = q6_df.join(pd.DataFrame(np.log(df.iloc[:,df.columns.get_loc('q15')]))) \n",
    "imputer = Imputer()\n",
    "q6_df = imputer.fit_transform(q6_df)\n",
    "\n",
    "kmeans = KMeans(n_clusters = 5).fit(q6_df)"
   ]
  },
  {
   "cell_type": "markdown",
   "metadata": {},
   "source": [
    "#### 6.a ####\n",
    "**Question**: What is the silhouette metric for this clustering?   \n",
    "You may use the max, as you did in question 2. For a more in-depth understanding of cluster analysis with silhouette, look [here](http://scikit-learn.org/stable/auto_examples/cluster/plot_kmeans_silhouette_analysis.html)"
   ]
  },
  {
   "cell_type": "code",
   "execution_count": 58,
   "metadata": {},
   "outputs": [
    {
     "name": "stdout",
     "output_type": "stream",
     "text": [
      "The silhouette metric for this clustering is:  0.648573840098\n"
     ]
    }
   ],
   "source": [
    "s_score = silhouette_score(q6_df, kmeans.labels_, sample_size = 10000)\n",
    "print(\"The silhouette metric for this clustering is: \", s_score)"
   ]
  },
  {
   "cell_type": "markdown",
   "metadata": {},
   "source": [
    "#### 6.b ####\n",
    "**Question**: What was the average “number of reviews per reviewer (q3)” among the points in each of the clusters (eg. C1: 1.4 C2: 4.2 C3: 3.4 etc)"
   ]
  },
  {
   "cell_type": "code",
   "execution_count": 60,
   "metadata": {},
   "outputs": [
    {
     "name": "stdout",
     "output_type": "stream",
     "text": [
      "C0 : 5.13274199769, C1 : 2.87911339962, C2 : 2.67239955971, C3 : 2.85209182152, C4 : 2.60288629012, "
     ]
    }
   ],
   "source": [
    "dict1 = {}\n",
    "#for i in range(5):\n",
    "#    dict1[i] = list()\n",
    "#print(kmeans.labels_[9999])\n",
    "#print([new_df.iloc[9999,new_df.columns.get_loc('q3')]])\n",
    "#print()\n",
    "\n",
    "for i in range(len(df)):\n",
    "    if kmeans.labels_[i] in dict1:\n",
    "        dict1[kmeans.labels_[i]].append(df.iloc[i,df.columns.get_loc('q3')])\n",
    "    else:\n",
    "        dict1[kmeans.labels_[i]] = ([df.iloc[i,df.columns.get_loc('q3')]])\n",
    "#print(dict1.keys())\n",
    "for key in sorted(dict1.keys()):\n",
    "    print(\"C\"+str(key),\":\",np.mean(np.array(dict1[key])), end =\", \")\n"
   ]
  },
  {
   "cell_type": "markdown",
   "metadata": {},
   "source": [
    "***\n",
    "\n",
    "### Question 7 ###\n",
    "Cluster the dataset using the features described in question 6 + every group’s question 16 features (you may drop features with high incidents of -Inf / blank / or NaN values). It is suggested that you perform some form of normalization on these question 16 features so as not to over bias the clustering towards the larger magnitude features."
   ]
  },
  {
   "cell_type": "markdown",
   "metadata": {},
   "source": [
    "#### Data Cleansing and Normalization ####\n",
    "Check how many null values there are in each column."
   ]
  },
  {
   "cell_type": "code",
   "execution_count": 20,
   "metadata": {},
   "outputs": [
    {
     "name": "stdout",
     "output_type": "stream",
     "text": [
      "{'q7': 0, 'q8': 117853, 'q9': 122162, 'q10': 81153, 'q11': 71282, 'q12': 71282, 'q13': 71282, 'q14': 0, 'q15': 0, 'q16a': 0, 'q16b': 0, 'q16c': 0, 'q16d': 0, 'q16e': 0, 'q16f': 0, 'q16g': 0, 'q16h': 0, 'q16i': 0, 'q16j': 0, 'q16k': 0, 'q16l': 0, 'q16m': 0, 'q16n': 0, 'q16o': 0, 'q16p': 0, 'q16q': 0, 'q16r': 0, 'q16s': 0, 'q16t': 0, 'q16u': 0, 'q16v': 0, 'q16w': 0, 'q16x': 0, 'q16y': 0, 'q16z': 0, 'q16aa': 0, 'q16ab': 47594, 'q16ac': 0}\n"
     ]
    }
   ],
   "source": [
    "from sklearn.preprocessing import MinMaxScaler\n",
    "col_loc = df.columns.get_loc('q7')\n",
    "q6_df = df.iloc[:,col_loc:(col_loc+8)]   #q6 refers to question 6 here, not some feature\n",
    "q6_df = q6_df.join(pd.DataFrame(np.log(df.iloc[:,df.columns.get_loc('q15')])))\n",
    "q7_df = pd.DataFrame(q6_df).join(df.iloc[:,df.columns.get_loc('q16a'):])\n",
    "#print(q7_df.shape)\n",
    "#print(q7_df.head())\n",
    "#print(q7_df['q8'].isnull().sum())\n",
    "\n",
    "d = {}\n",
    "for col in q7_df.columns:\n",
    "    d[col] = np.sum(q7_df[col].isnull().sum())\n",
    "print(d)\n"
   ]
  },
  {
   "cell_type": "markdown",
   "metadata": {},
   "source": [
    "It looks like q8 - q13 and q16ab have a lot of null values, especially q8 and q9. Let's see what the impact is of removing some of these columnsbefore removing any columns"
   ]
  },
  {
   "cell_type": "code",
   "execution_count": 21,
   "metadata": {
    "collapsed": true
   },
   "outputs": [],
   "source": [
    "#print(q7_df.columns)\n",
    "del q7_df['q8']   # Could also do df.drop\n",
    "del q7_df['q9']\n",
    "\n"
   ]
  },
  {
   "cell_type": "markdown",
   "metadata": {},
   "source": [
    "By removing 2 features, we double the number of rows remaining. That's pretty good.  \n",
    "Preprocess categorical variables to dummy values."
   ]
  },
  {
   "cell_type": "code",
   "execution_count": 22,
   "metadata": {},
   "outputs": [
    {
     "name": "stdout",
     "output_type": "stream",
     "text": [
      "{dtype('float64'), dtype('int64'), dtype('O')}\n",
      "     q7   q10   q11   q12    q13  q14       q15  q16a      q16b      q16c  \\\n",
      "1  1.10  0.00   0.0   0.0  100.0    9  5.030438     0  0.577350  0.002179   \n",
      "3  1.10  0.00   0.0   0.0  100.0   10  6.219934     1  2.309401  0.000663   \n",
      "5  1.10  1.10   0.0   0.0  100.0    9  5.950643     0  2.309401  0.002604   \n",
      "6  2.08  1.79  25.0   0.0   75.0    9  6.013104     5  1.995531  0.002446   \n",
      "9  0.69  0.00   0.0  50.0   50.0    9  5.898527     1  2.121320  0.002743   \n",
      "\n",
      "     ...     q16t  q16u  q16v  q16w      q16x       q16y  q16z  q16aa  \\\n",
      "1    ...        1   1.0    19    14  0.000000  21.833333     1      0   \n",
      "3    ...        1   0.0     8    11  0.002242  61.500000     0      0   \n",
      "5    ...        1   0.0    27    11  0.005814  41.000000     0      0   \n",
      "6    ...        0   0.5     1    27  0.006479  42.156250     0      0   \n",
      "9    ...        1   0.5    31     7  0.000000  56.750000     0      0   \n",
      "\n",
      "      q16ab     q16ac  \n",
      "1  0.333333  4.666667  \n",
      "3  0.333333  3.666667  \n",
      "5  1.000000  3.666667  \n",
      "6  1.000000  3.375000  \n",
      "9  1.000000  3.500000  \n",
      "\n",
      "[5 rows x 36 columns]\n"
     ]
    }
   ],
   "source": [
    "q7_df = q7_df.dropna() # Till now I have been imputing and not dropping the NaN values, but siunce this question refers to dropping NaN, I have done so here\n",
    "list_of_types = []\n",
    "for col in q7_df.columns:\n",
    "    list_of_types.append(q7_df[col].dtype)\n",
    "print(set(list_of_types))\n",
    "\n",
    "for col in q7_df.columns:\n",
    "    if q7_df[col].dtype == 'O':\n",
    "        cats = set(q7_df[col])\n",
    "        #print(cats)\n",
    "        count = 0\n",
    "        d = {}\n",
    "        for elt in cats:\n",
    "            d[elt] = count\n",
    "            count+=1\n",
    "        #print(d)\n",
    "        #break\n",
    "        new_q7 = []\n",
    "        for elt in q7_df[col]:\n",
    "            new_q7.append(d[elt])\n",
    "        q7_df[col]=new_q7\n",
    "            \n",
    "print(q7_df.head())           "
   ]
  },
  {
   "cell_type": "markdown",
   "metadata": {},
   "source": [
    "Now normalize the remaining features."
   ]
  },
  {
   "cell_type": "code",
   "execution_count": 23,
   "metadata": {},
   "outputs": [
    {
     "data": {
      "text/html": [
       "<div>\n",
       "<style>\n",
       "    .dataframe thead tr:only-child th {\n",
       "        text-align: right;\n",
       "    }\n",
       "\n",
       "    .dataframe thead th {\n",
       "        text-align: left;\n",
       "    }\n",
       "\n",
       "    .dataframe tbody tr th {\n",
       "        vertical-align: top;\n",
       "    }\n",
       "</style>\n",
       "<table border=\"1\" class=\"dataframe\">\n",
       "  <thead>\n",
       "    <tr style=\"text-align: right;\">\n",
       "      <th></th>\n",
       "      <th>q7</th>\n",
       "      <th>q10</th>\n",
       "      <th>q11</th>\n",
       "      <th>q12</th>\n",
       "      <th>q13</th>\n",
       "      <th>q14</th>\n",
       "      <th>q15</th>\n",
       "      <th>q16a</th>\n",
       "      <th>q16b</th>\n",
       "      <th>q16c</th>\n",
       "      <th>...</th>\n",
       "      <th>q16t</th>\n",
       "      <th>q16u</th>\n",
       "      <th>q16v</th>\n",
       "      <th>q16w</th>\n",
       "      <th>q16x</th>\n",
       "      <th>q16y</th>\n",
       "      <th>q16z</th>\n",
       "      <th>q16aa</th>\n",
       "      <th>q16ab</th>\n",
       "      <th>q16ac</th>\n",
       "    </tr>\n",
       "  </thead>\n",
       "  <tbody>\n",
       "    <tr>\n",
       "      <th>0</th>\n",
       "      <td>0.186757</td>\n",
       "      <td>0.000000</td>\n",
       "      <td>0.000000</td>\n",
       "      <td>0.000000</td>\n",
       "      <td>1.000000</td>\n",
       "      <td>0.833333</td>\n",
       "      <td>0.511036</td>\n",
       "      <td>0.0</td>\n",
       "      <td>0.204124</td>\n",
       "      <td>0.000654</td>\n",
       "      <td>...</td>\n",
       "      <td>1.0</td>\n",
       "      <td>0.111111</td>\n",
       "      <td>0.346154</td>\n",
       "      <td>0.010093</td>\n",
       "      <td>0.000000</td>\n",
       "      <td>0.031555</td>\n",
       "      <td>0.022727</td>\n",
       "      <td>0.0</td>\n",
       "      <td>0.000974</td>\n",
       "      <td>0.916667</td>\n",
       "    </tr>\n",
       "    <tr>\n",
       "      <th>1</th>\n",
       "      <td>0.186757</td>\n",
       "      <td>0.000000</td>\n",
       "      <td>0.000000</td>\n",
       "      <td>0.000000</td>\n",
       "      <td>1.000000</td>\n",
       "      <td>0.916667</td>\n",
       "      <td>0.677844</td>\n",
       "      <td>0.1</td>\n",
       "      <td>0.816497</td>\n",
       "      <td>0.000187</td>\n",
       "      <td>...</td>\n",
       "      <td>1.0</td>\n",
       "      <td>0.000000</td>\n",
       "      <td>0.134615</td>\n",
       "      <td>0.007764</td>\n",
       "      <td>0.005809</td>\n",
       "      <td>0.089547</td>\n",
       "      <td>0.000000</td>\n",
       "      <td>0.0</td>\n",
       "      <td>0.000974</td>\n",
       "      <td>0.666667</td>\n",
       "    </tr>\n",
       "    <tr>\n",
       "      <th>2</th>\n",
       "      <td>0.186757</td>\n",
       "      <td>0.141207</td>\n",
       "      <td>0.000000</td>\n",
       "      <td>0.000000</td>\n",
       "      <td>1.000000</td>\n",
       "      <td>0.833333</td>\n",
       "      <td>0.640080</td>\n",
       "      <td>0.0</td>\n",
       "      <td>0.816497</td>\n",
       "      <td>0.000784</td>\n",
       "      <td>...</td>\n",
       "      <td>1.0</td>\n",
       "      <td>0.000000</td>\n",
       "      <td>0.500000</td>\n",
       "      <td>0.007764</td>\n",
       "      <td>0.015063</td>\n",
       "      <td>0.059576</td>\n",
       "      <td>0.000000</td>\n",
       "      <td>0.0</td>\n",
       "      <td>0.002921</td>\n",
       "      <td>0.666667</td>\n",
       "    </tr>\n",
       "    <tr>\n",
       "      <th>3</th>\n",
       "      <td>0.353141</td>\n",
       "      <td>0.229782</td>\n",
       "      <td>0.267867</td>\n",
       "      <td>0.000000</td>\n",
       "      <td>0.738083</td>\n",
       "      <td>0.833333</td>\n",
       "      <td>0.648840</td>\n",
       "      <td>0.5</td>\n",
       "      <td>0.705527</td>\n",
       "      <td>0.000736</td>\n",
       "      <td>...</td>\n",
       "      <td>0.0</td>\n",
       "      <td>0.055556</td>\n",
       "      <td>0.000000</td>\n",
       "      <td>0.020186</td>\n",
       "      <td>0.016786</td>\n",
       "      <td>0.061266</td>\n",
       "      <td>0.000000</td>\n",
       "      <td>0.0</td>\n",
       "      <td>0.002921</td>\n",
       "      <td>0.593750</td>\n",
       "    </tr>\n",
       "    <tr>\n",
       "      <th>4</th>\n",
       "      <td>0.117148</td>\n",
       "      <td>0.000000</td>\n",
       "      <td>0.000000</td>\n",
       "      <td>0.559973</td>\n",
       "      <td>0.476166</td>\n",
       "      <td>0.833333</td>\n",
       "      <td>0.632772</td>\n",
       "      <td>0.1</td>\n",
       "      <td>0.750000</td>\n",
       "      <td>0.000827</td>\n",
       "      <td>...</td>\n",
       "      <td>1.0</td>\n",
       "      <td>0.055556</td>\n",
       "      <td>0.576923</td>\n",
       "      <td>0.004658</td>\n",
       "      <td>0.000000</td>\n",
       "      <td>0.082602</td>\n",
       "      <td>0.000000</td>\n",
       "      <td>0.0</td>\n",
       "      <td>0.002921</td>\n",
       "      <td>0.625000</td>\n",
       "    </tr>\n",
       "  </tbody>\n",
       "</table>\n",
       "<p>5 rows × 36 columns</p>\n",
       "</div>"
      ],
      "text/plain": [
       "         q7       q10       q11       q12       q13       q14       q15  q16a  \\\n",
       "0  0.186757  0.000000  0.000000  0.000000  1.000000  0.833333  0.511036   0.0   \n",
       "1  0.186757  0.000000  0.000000  0.000000  1.000000  0.916667  0.677844   0.1   \n",
       "2  0.186757  0.141207  0.000000  0.000000  1.000000  0.833333  0.640080   0.0   \n",
       "3  0.353141  0.229782  0.267867  0.000000  0.738083  0.833333  0.648840   0.5   \n",
       "4  0.117148  0.000000  0.000000  0.559973  0.476166  0.833333  0.632772   0.1   \n",
       "\n",
       "       q16b      q16c    ...     q16t      q16u      q16v      q16w      q16x  \\\n",
       "0  0.204124  0.000654    ...      1.0  0.111111  0.346154  0.010093  0.000000   \n",
       "1  0.816497  0.000187    ...      1.0  0.000000  0.134615  0.007764  0.005809   \n",
       "2  0.816497  0.000784    ...      1.0  0.000000  0.500000  0.007764  0.015063   \n",
       "3  0.705527  0.000736    ...      0.0  0.055556  0.000000  0.020186  0.016786   \n",
       "4  0.750000  0.000827    ...      1.0  0.055556  0.576923  0.004658  0.000000   \n",
       "\n",
       "       q16y      q16z  q16aa     q16ab     q16ac  \n",
       "0  0.031555  0.022727    0.0  0.000974  0.916667  \n",
       "1  0.089547  0.000000    0.0  0.000974  0.666667  \n",
       "2  0.059576  0.000000    0.0  0.002921  0.666667  \n",
       "3  0.061266  0.000000    0.0  0.002921  0.593750  \n",
       "4  0.082602  0.000000    0.0  0.002921  0.625000  \n",
       "\n",
       "[5 rows x 36 columns]"
      ]
     },
     "execution_count": 23,
     "metadata": {},
     "output_type": "execute_result"
    }
   ],
   "source": [
    "cols = q7_df.columns\n",
    "scaler = MinMaxScaler()\n",
    "scaler.fit(q7_df)\n",
    "q7_df = pd.DataFrame(scaler.transform(q7_df), columns = cols)\n",
    "#q7_df = pd.DataFrame(normalize(q7_df, axis = 0))\n",
    "q7_df.head()"
   ]
  },
  {
   "cell_type": "markdown",
   "metadata": {},
   "source": [
    "#### 7.a ####\n",
    "**Question**: Using the silhouette metric, what was the best k?  \n",
    "\n",
    "**Answer**:  "
   ]
  },
  {
   "cell_type": "code",
   "execution_count": 24,
   "metadata": {},
   "outputs": [
    {
     "name": "stdout",
     "output_type": "stream",
     "text": [
      "Best choice: k =  2 , silhouette score =  0.232197223377\n"
     ]
    }
   ],
   "source": [
    "current_max, current_index = float(\"-inf\"),-1\n",
    "sse = []\n",
    "for k in range(2,9):\n",
    "    kmeans = KMeans(n_clusters = k).fit(q7_df)\n",
    "    sse.append(kmeans.inertia_)\n",
    "    s_score = silhouette_score(q7_df, kmeans.labels_, sample_size = 10000)\n",
    "    if s_score > current_max:\n",
    "        current_max = s_score\n",
    "        current_index = k\n",
    "\n",
    "print(\"Best choice: k = \", current_index, \", silhouette score = \", current_max)"
   ]
  },
  {
   "cell_type": "markdown",
   "metadata": {},
   "source": [
    "#### 7.b ####\n",
    "**Question**: Using the the sum of within cluster variance metric with the elbow method what was the best k?  \n",
    "**Answer**:  "
   ]
  },
  {
   "cell_type": "code",
   "execution_count": 25,
   "metadata": {},
   "outputs": [
    {
     "data": {
      "image/png": "[encoded data removed]",
      "text/plain": [
       "<matplotlib.figure.Figure at 0x21b84912e8>"
      ]
     },
     "metadata": {},
     "output_type": "display_data"
    }
   ],
   "source": [
    "k = range(2,9)\n",
    "plt.plot(k,sse)\n",
    "plt.show()"
   ]
  },
  {
   "cell_type": "markdown",
   "metadata": {
    "collapsed": true
   },
   "source": [
    "By the elbow method, it is seen that maximum slope change occurs at k=3."
   ]
  },
  {
   "cell_type": "markdown",
   "metadata": {},
   "source": [
    "### Question 8 ###\n",
    "For this question please come up with your own question about this dataset and using a clustering technique as part of your method of answering it. This question answer should be submitted to a bCourses assignment in the form a pdf. This report is expected to be between 2 and 3 pages. It is meant to give you practice writing up your results. The report should have the following sections:\n",
    "\n",
    "\n",
    "RESEARCH QUESTION: Describe what it is you want to ask of this dataset\n",
    "                 (the question can not be the same as question 9)\n",
    "                 \n",
    "                 \n",
    "DATASET: describe the yelp_reviews to yelp_reviewers transformation. have a subsection called FEATURES SELECTED: briefly describe the features from the dataset you choose (at least 1 features should be from a q16)\n",
    "\n",
    "\n",
    "METHODS: Briefly describe the methods you used (such as k-means) and why you used them\n",
    "\n",
    "\n",
    "RESULTS: Here you can tell the story of how you investigated the question (plots are always nice) and the conclusions you drew.\n",
    "\n",
    "\n",
    "NOTE: If you are hypothesizing that clusters might be formed with respect to a particular attribute, consider withholding that attribute from clustering and then looking to see what the mean value or distribution of that attribute is among the formed clusters."
   ]
  },
  {
   "cell_type": "code",
   "execution_count": null,
   "metadata": {
    "collapsed": true
   },
   "outputs": [],
   "source": [
    "#I have submitted the pdf and a separate Ipython notebook for this titled Lab2 Q8.ipynb."
   ]
  },
  {
   "cell_type": "markdown",
   "metadata": {},
   "source": [
    "## Bonus question (+15%) - Reviewer overlap:\n",
    "Create a dataset with f reviewers as the rows and business_ids as the columns (there are a lot) where the feature value is is ‘1’ if the reviewer has written a review for that business and ‘0’ if not. Use the methods described in this assignment to answer the question of how much overlap of businesses reviewed exists among reviewers in this dataset. Append this answer to your question 8 document."
   ]
  },
  {
   "cell_type": "code",
   "execution_count": 1,
   "metadata": {
    "collapsed": true
   },
   "outputs": [],
   "source": [
    "# Attached after Q8\n",
    "\n"
   ]
  }
 ],
 "metadata": {
  "anaconda-cloud": {},
  "kernelspec": {
   "display_name": "Python 3",
   "language": "python",
   "name": "python3"
  },
  "language_info": {
   "codemirror_mode": {
    "name": "ipython",
    "version": 3
   },
   "file_extension": ".py",
   "mimetype": "text/x-python",
   "name": "python",
   "nbconvert_exporter": "python",
   "pygments_lexer": "ipython3",
   "version": "3.6.3"
  }
 },
 "nbformat": 4,
 "nbformat_minor": 1
}
